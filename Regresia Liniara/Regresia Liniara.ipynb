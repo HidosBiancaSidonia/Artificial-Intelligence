{
 "cells": [
  {
   "cell_type": "code",
   "execution_count": 1,
   "metadata": {},
   "outputs": [],
   "source": [
    "import numpy as np\n",
    "import pandas as pd\n",
    "from typing import Tuple, List\n",
    "import matplotlib.pyplot as plt "
   ]
  },
  {
   "cell_type": "markdown",
   "metadata": {},
   "source": [
    "## Data reading"
   ]
  },
  {
   "cell_type": "code",
   "execution_count": 2,
   "metadata": {},
   "outputs": [
    {
     "data": {
      "text/plain": [
       "(11934, 18)"
      ]
     },
     "execution_count": 2,
     "metadata": {},
     "output_type": "execute_result"
    }
   ],
   "source": [
    "# incarcarea datelor\n",
    "\n",
    "file = 'data.txt'\n",
    "data_df = pd.read_csv(file, sep=r'\\s+', header=None)\n",
    "data = data_df.values\n",
    "data.shape"
   ]
  },
  {
   "cell_type": "code",
   "execution_count": 3,
   "metadata": {},
   "outputs": [
    {
     "name": "stdout",
     "output_type": "stream",
     "text": [
      "(11934, 17)\n"
     ]
    }
   ],
   "source": [
    "data = np.concatenate((data[:,0:-2], data[:,-1:]),axis=1)\n",
    "print(data.shape)\n",
    "assert data.shape == (11934, 17)"
   ]
  },
  {
   "cell_type": "markdown",
   "metadata": {},
   "source": [
    "## Input processing"
   ]
  },
  {
   "cell_type": "code",
   "execution_count": 4,
   "metadata": {},
   "outputs": [],
   "source": [
    "# Functie pentru separarea datelor de intrare de cele de iesire\n",
    "\n",
    "def get_input_output(mat: np.array) -> Tuple[np.array, np.array]:\n",
    "    \"\"\"Separa partea de intrare (variabile independente) de cea de iesire \n",
    "    (variabila dependenta).\n",
    "    \n",
    "    :param mat: np.array de forma (m, n). Fiecare linie este un caz \n",
    "    inregistrat, adica un vector de intrare. Primele n-1 coloane sunt valori \n",
    "    de intrare in model, ultima coloana este valoarea de iesire asociata \n",
    "    (ground truth).\n",
    "    \n",
    "    :return: un tuplu cu: matrice de (m, n-1) continand intrarile \n",
    "    (o linie = un vector de intrare); un vector coloana cu m linii continand\n",
    "    valorile de iesire asociate intrarilor.\n",
    "    \"\"\"\n",
    "    m, n = mat.shape\n",
    "    X = mat[:,:-1]\n",
    "    y = mat[:,-1:]\n",
    "    assert np.alltrue(X == mat[:, :-1])\n",
    "    assert np.alltrue(y[:, -1] == mat[:, -1])\n",
    "    return X, y"
   ]
  },
  {
   "cell_type": "code",
   "execution_count": 5,
   "metadata": {},
   "outputs": [],
   "source": [
    "# separa matricea cu vectorii de intrare si vectorul coloana cu iesirile asociate\n",
    "X, y = get_input_output(data)"
   ]
  },
  {
   "cell_type": "code",
   "execution_count": 6,
   "metadata": {},
   "outputs": [],
   "source": [
    "# Functie pentru scalarea datelor in intervalul [0, 1]. \n",
    "\n",
    "def scale_matrix(mat: np.array) -> np.array:\n",
    "    \"\"\"Preia o matrice cu valori reale si scaleaza toate coloanele in \n",
    "    intervalul [0, 1]. Coloanele constante vor fi transformate in 1.\n",
    "    \n",
    "    :param mat: matrice de forma (m, n)\n",
    "    :return: matrice cu valori scalate in [0, 1]\n",
    "    \"\"\"\n",
    "    \n",
    "    min_cols, max_cols = np.min(mat,axis=0), np.max(mat,axis=0)\n",
    "    different_min_max = min_cols!=max_cols\n",
    "\n",
    "   \n",
    "    result = np.ones_like(mat)\n",
    "    result[:, different_min_max] =(mat[:, different_min_max]-min_cols[different_min_max])/(max_cols[different_min_max]-min_cols[different_min_max]) \n",
    "    assert result.shape == mat.shape\n",
    "    assert np.alltrue(np.min(result, axis=0) >= 0)\n",
    "    assert np.alltrue(np.max(result, axis=0) <= 1)\n",
    "   \n",
    "    return result, min_cols, max_cols"
   ]
  },
  {
   "cell_type": "code",
   "execution_count": 7,
   "metadata": {},
   "outputs": [],
   "source": [
    "# Functie pentru scalarea datelor. \n",
    "# Scalele sunt furnizate, de regula calculate pe baza datelor din setul \n",
    "# de antrenare\n",
    "\n",
    "def scale_matrix_with_known_minmax(mat: np.array, min_cols: np.array, max_cols: np.array) -> np.array:\n",
    "    \"\"\"Preia o matrice  :param mat: si efectueaza scalarea valorilor in \n",
    "    intervalul [0, 1] folosind valori de min si max pe fiecare coloana \n",
    "    precalculate si date prin parametrii :param min_cols:, :param max_cols:.\n",
    "    \n",
    "    :param mat: matricea de (m, n) care trebuie scalata.\n",
    "    :param min_cols: minime pe coloane, precalculate\n",
    "    :param max_cols: maxime pe coloane, precalculate\n",
    "    :return: matrice de (m, n) cu valori scalate.\n",
    "    \"\"\"\n",
    "    different_min_max = min_cols!=max_cols\n",
    "    result = np.ones_like(mat)\n",
    "    result[:, different_min_max] = (mat[:, different_min_max]-min_cols[different_min_max])/(max_cols[different_min_max]-min_cols[different_min_max])\n",
    "   \n",
    "    assert result.shape == mat.shape\n",
    "    return result"
   ]
  },
  {
   "cell_type": "code",
   "execution_count": 8,
   "metadata": {},
   "outputs": [],
   "source": [
    "X, min_cols, max_cols =scale_matrix(X) \n",
    "y, _, _ =scale_matrix(y)"
   ]
  },
  {
   "cell_type": "code",
   "execution_count": 9,
   "metadata": {},
   "outputs": [],
   "source": [
    "def design_matrix(mat: np.array) -> np.array:\n",
    "    \"\"\"Preia o matrice de forma (m, n) si returneaza o matrice de forma \n",
    "    (m, n+1), in care prima coloana este 1, iar ultimele n coloane sunt \n",
    "    coloanele lui :param mat:.\n",
    "    \n",
    "    :param mat: matrice de forma (m, n)\n",
    "    :return: matrice de forma (m, n+1), cu prima coloana plina cu 1, ultimele \n",
    "    n coloane sunt cele din :param mat:\n",
    "    \"\"\"\n",
    "    m, n = mat.shape\n",
    "    result = np.insert(mat, 0, 1,axis=1)\n",
    "    assert result.shape == (m, n+1)\n",
    "    assert np.alltrue(result[:, 0] == 1)\n",
    "    assert np.alltrue(result[:, 1:] == mat)\n",
    "    return result"
   ]
  },
  {
   "cell_type": "code",
   "execution_count": 10,
   "metadata": {},
   "outputs": [],
   "source": [
    "X = design_matrix(X)"
   ]
  },
  {
   "cell_type": "markdown",
   "metadata": {},
   "source": [
    "## Linear regression with stochastic gradient descent\n"
   ]
  },
  {
   "cell_type": "markdown",
   "metadata": {},
   "source": [
    "### Model implementation"
   ]
  },
  {
   "cell_type": "code",
   "execution_count": 11,
   "metadata": {},
   "outputs": [],
   "source": [
    "def h(X: np.array, w: np.array) -> np.array:\n",
    "    \"\"\"Pentru un model liniar specificat prin parametrii w si un set de date \n",
    "    de intrare X produce valorile estimate de model: \n",
    "    y_hat[i] = X[i, 0] * w[0] + X[i, 1] * w[1] + ...  \n",
    "   \n",
    "   :param X: valori de intrare, structurate ca np.array de forma (m, n)\n",
    "   :param w: vector de ponderi, de forma (n, 1)\n",
    "   :return: vector cu valori de iesire estimate, de forma (n, 1). \n",
    "    \"\"\"\n",
    "    assert w.shape == (X.shape[1], 1)\n",
    "    assert X.shape[1] == w.shape[0]\n",
    "    y_hat = np.dot(X,w)\n",
    "    assert y_hat.shape == (X.shape[0], 1)\n",
    "    return y_hat"
   ]
  },
  {
   "cell_type": "markdown",
   "metadata": {},
   "source": [
    "### MSE function"
   ]
  },
  {
   "cell_type": "code",
   "execution_count": 12,
   "metadata": {},
   "outputs": [],
   "source": [
    "def mean_squared_error(y: np.array, y_hat: np.array) -> float:\n",
    "    \"\"\"Functie de eroare patratica medie.\n",
    "    \n",
    "    :param y: vector coloana de m elemente, continand valorile de iesire reale \n",
    "    (ground truth)\n",
    "    :param y_hat': vector coloana de m elemente, continand valorile de iesire\n",
    "    estimate.\n",
    "    :return: eroarea patratica medie.\n",
    "    \"\"\"\n",
    "    result = np.square(np.subtract(y_hat,y)).mean() \n",
    "    return result"
   ]
  },
  {
   "cell_type": "markdown",
   "metadata": {},
   "source": [
    "### Cost function"
   ]
  },
  {
   "cell_type": "code",
   "execution_count": 13,
   "metadata": {},
   "outputs": [],
   "source": [
    "# Functia de eroare\n",
    "\n",
    "def J(X:np.array, w:np.array, y:np.array, lmbda: float = 0) -> float:\n",
    "    \"\"\"Calculeaza valoarea functiei de eroare pentru intrarea curenta :param X:, \n",
    "    estimarea produsa de model folosind ponderile :param w: si iesirea corecta\n",
    "    :param y: (ground truth).\n",
    "    \n",
    "    :param X: matrice de valori de intrare pentru care modelul de regresie \n",
    "    liniara produce estimari. Are forma (m, n)\n",
    "    :param w: vector coloana de ponderi, definind coeficientii modelului de \n",
    "    regresie liniara. Are forma (n, 1).\n",
    "    :param y: vector coloana de valori de iesire cunoscute (ground truth). \n",
    "    Are forma (n, 1).\n",
    "    :param lmda: coeficientul de penalizare L2\n",
    "    :return: jumatate din mean squared error plus penalizarea L2\n",
    "    \"\"\"\n",
    "    assert w.shape == (X.shape[1], 1)\n",
    "    assert y.shape == (X.shape[0], 1)\n",
    "    assert lmbda >= 0\n",
    "    m = X.shape[0]\n",
    "    y_hat = np.dot(X,w)  \n",
    "    assert y_hat.shape == (X.shape[0], 1)\n",
    "    term_squared_error = mean_squared_error(y,y_hat)/2   \n",
    "    l2_error = lmbda * np.sum(np.power(w[1:], 2))\n",
    "    return term_squared_error + l2_error"
   ]
  },
  {
   "cell_type": "markdown",
   "metadata": {},
   "source": [
    "### Stochastic gradient descent implementation"
   ]
  },
  {
   "cell_type": "code",
   "execution_count": 14,
   "metadata": {},
   "outputs": [],
   "source": [
    "def gradient(X:np.array, w:np.array, y:np.array, lmbda: float = 0) -> np.array:\n",
    "    \"\"\"Calculeaza gradientul functiei de eroare\n",
    "    \n",
    "    :param X: matrice de valori de intrare pentru care modelul de regresie \n",
    "    liniara produce estimari. Are forma (m, n)\n",
    "    :param w: vector coloana de ponderi, definind coeficientii modelului de \n",
    "    regresie liniara. Are forma (n, 1).\n",
    "    :param y: vector coloana de valori de iesire cunoscute (ground truth). \n",
    "    Are forma (n, 1).\n",
    "    :param lmda: coeficientul de penalizare L2\n",
    "    :return: vector gradient\n",
    "    \"\"\"\n",
    "    assert w.shape == (X.shape[1], 1)\n",
    "    assert y.shape == (X.shape[0], 1)\n",
    "    assert lmbda >= 0\n",
    "    m, _ = X.shape\n",
    "    y_hat = np.dot(X,w) \n",
    "    \n",
    "    grad=1/m*np.dot(np.transpose(X),y_hat-y)\n",
    "    grad[1:, ] += lmbda*w[1:,] \n",
    "    grad = grad.astype('float32')\n",
    "    assert grad.shape == w.shape\n",
    "    return grad"
   ]
  },
  {
   "cell_type": "code",
   "execution_count": 15,
   "metadata": {},
   "outputs": [],
   "source": [
    "# Implementarea algoritmului de antrenare\n",
    "\n",
    "def train(X:np.array, y:np.array, max_iters:int = 100000, alpha:float = 0.001, lmbda: float = 0.01) -> Tuple[np.array, List[float]]:\n",
    "    \"\"\"Aplica algoritmul de instruire cu gradient. \n",
    "    \n",
    "    :param X: matrice de valori de intrare pentru care modelul de regresie \n",
    "    liniara produce estimari. Are forma (m, n)\n",
    "    :param y: vector coloana de valori de iesire cunoscute (ground truth). \n",
    "    Are forma (n, 1).\n",
    "    :param alpha: rata de invatare\n",
    "    :param lmda: coeficientul de penalizare L2\n",
    "    :return: tuplu continand ponderile modelului rezultate dupa instruire, lista de erori pe setul de antrenare\n",
    "    \"\"\"\n",
    "    m, n = X.shape\n",
    "    assert y.shape == (m, 1)\n",
    "    assert X.shape[0] == y.shape[0]\n",
    "    w = np.full((n, 1), 0) \n",
    "    losses = [None] * max_iters\n",
    "    \n",
    "    for i in range(max_iters):\n",
    "        loss = J(X,w,y,lmbda) \n",
    "        if i%1000==0:\n",
    "            print(f'index {i} error: {loss}')\n",
    "        nr =0   \n",
    "        losses[i] = loss\n",
    "        grad =  gradient(X,w,y,lmbda)  \n",
    "        w=w.astype('float32')\n",
    "        grad=grad.astype('float32')\n",
    "        w -= np.multiply(alpha, grad) \n",
    "        \n",
    "    return w, losses"
   ]
  },
  {
   "cell_type": "code",
   "execution_count": 16,
   "metadata": {
    "scrolled": true
   },
   "outputs": [
    {
     "name": "stdout",
     "output_type": "stream",
     "text": [
      "index 0 error: 0.16999999999999998\n",
      "index 1000 error: 0.04233323394627544\n",
      "index 2000 error: 0.040933810924700734\n",
      "index 3000 error: 0.04002624636978923\n",
      "index 4000 error: 0.03933820766446256\n",
      "index 5000 error: 0.03876246436014073\n",
      "index 6000 error: 0.03825019227115656\n",
      "index 7000 error: 0.0377767837013462\n",
      "index 8000 error: 0.037328974133299775\n",
      "index 9000 error: 0.036899292956229936\n",
      "index 10000 error: 0.03648337579445867\n",
      "index 11000 error: 0.036078599744505425\n",
      "index 12000 error: 0.03568333632096272\n",
      "index 13000 error: 0.035296543664943135\n",
      "index 14000 error: 0.03491751903540715\n",
      "index 15000 error: 0.03454577223584518\n",
      "index 16000 error: 0.034180956232748694\n",
      "index 17000 error: 0.03382276227682325\n",
      "index 18000 error: 0.033470959221046974\n",
      "index 19000 error: 0.03312534905182084\n",
      "index 20000 error: 0.03278576770096069\n",
      "index 21000 error: 0.0324520423717688\n",
      "index 22000 error: 0.032124025473498144\n",
      "index 23000 error: 0.03180157594340891\n",
      "index 24000 error: 0.03148455774880778\n",
      "index 25000 error: 0.031172823372041414\n",
      "index 26000 error: 0.03086627199666067\n",
      "index 27000 error: 0.030564785688671752\n",
      "index 28000 error: 0.030268252145598404\n",
      "index 29000 error: 0.029976531561430743\n",
      "index 30000 error: 0.02968955899965627\n",
      "index 31000 error: 0.02940721163849949\n",
      "index 32000 error: 0.029129352537640825\n",
      "index 33000 error: 0.028855934276946354\n",
      "index 34000 error: 0.028586886689102243\n",
      "index 35000 error: 0.028322073137207394\n",
      "index 36000 error: 0.02806137779902343\n",
      "index 37000 error: 0.02780476303632655\n",
      "index 38000 error: 0.027552178028739834\n",
      "index 39000 error: 0.02730347516337236\n",
      "index 40000 error: 0.027058539986545442\n",
      "index 41000 error: 0.026817424252907347\n",
      "index 42000 error: 0.026579975474627253\n",
      "index 43000 error: 0.0263460382689164\n",
      "index 44000 error: 0.02611576320619342\n",
      "index 45000 error: 0.02588889673570969\n",
      "index 46000 error: 0.025665381714943578\n",
      "index 47000 error: 0.02544528462922091\n",
      "index 48000 error: 0.02522835947330126\n",
      "index 49000 error: 0.025014708294466247\n",
      "index 50000 error: 0.024804170944333896\n",
      "index 51000 error: 0.024596704538760086\n",
      "index 52000 error: 0.024392239613797526\n",
      "index 53000 error: 0.024190764999351314\n",
      "index 54000 error: 0.023992229308335344\n",
      "index 55000 error: 0.02379651207710595\n",
      "index 56000 error: 0.02360360364706646\n",
      "index 57000 error: 0.023413456931118046\n",
      "index 58000 error: 0.02322600663692895\n",
      "index 59000 error: 0.023041226612946674\n",
      "index 60000 error: 0.022858974566554197\n",
      "index 61000 error: 0.02267937035517671\n",
      "index 62000 error: 0.022502202087480286\n",
      "index 63000 error: 0.022327567180453516\n",
      "index 64000 error: 0.022155345978481934\n",
      "index 65000 error: 0.02198539931249625\n",
      "index 66000 error: 0.021817973637161644\n",
      "index 67000 error: 0.021652720540135895\n",
      "index 68000 error: 0.021489739679438465\n",
      "index 69000 error: 0.021329041475199772\n",
      "index 70000 error: 0.02117044870385593\n",
      "index 71000 error: 0.021013998885581777\n",
      "index 72000 error: 0.020859667798330726\n",
      "index 73000 error: 0.020707483999818255\n",
      "index 74000 error: 0.0205571663867132\n",
      "index 75000 error: 0.020408962258708124\n",
      "index 76000 error: 0.020262664942108648\n",
      "index 77000 error: 0.02011828030601711\n",
      "index 78000 error: 0.01997602298455897\n",
      "index 79000 error: 0.019835400436923712\n",
      "index 80000 error: 0.019696626681295952\n",
      "index 81000 error: 0.01955977024589546\n",
      "index 82000 error: 0.019424404933165565\n",
      "index 83000 error: 0.019291171864300835\n",
      "index 84000 error: 0.019159333770877487\n",
      "index 85000 error: 0.019029370116136576\n",
      "index 86000 error: 0.018900951481186364\n",
      "index 87000 error: 0.018774142477105564\n",
      "index 88000 error: 0.0186491598053981\n",
      "index 89000 error: 0.018525386036047857\n",
      "index 90000 error: 0.018403590676513266\n",
      "index 91000 error: 0.01828293728581435\n",
      "index 92000 error: 0.018164171839717667\n",
      "index 93000 error: 0.01804657744289388\n",
      "index 94000 error: 0.017930616608487784\n",
      "index 95000 error: 0.01781597165951114\n",
      "index 96000 error: 0.01770276335599345\n",
      "index 97000 error: 0.017590965306065035\n",
      "index 98000 error: 0.01748046663925604\n",
      "index 99000 error: 0.017371383482935827\n"
     ]
    }
   ],
   "source": [
    "w, losses = train(X, y, max_iters=100000, alpha=0.25,lmbda=0.0)"
   ]
  },
  {
   "cell_type": "code",
   "execution_count": 17,
   "metadata": {},
   "outputs": [
    {
     "data": {
      "text/plain": [
       "[<matplotlib.lines.Line2D at 0x234fc48b288>]"
      ]
     },
     "execution_count": 17,
     "metadata": {},
     "output_type": "execute_result"
    },
    {
     "data": {
      "image/png": "[encoded data removed]",
      "text/plain": [
       "<Figure size 864x576 with 1 Axes>"
      ]
     },
     "metadata": {
      "needs_background": "light"
     },
     "output_type": "display_data"
    }
   ],
   "source": [
    "# desenarea curbei de cost pe setul de antrenare\n",
    "\n",
    "plt.figure(figsize=(12, 8))\n",
    "plt.xlabel('Epoca')\n",
    "plt.ylabel('Valoare de eroare')\n",
    "plt.plot(losses)"
   ]
  },
  {
   "cell_type": "code",
   "execution_count": 18,
   "metadata": {},
   "outputs": [
    {
     "name": "stdout",
     "output_type": "stream",
     "text": [
      "Eroarea determinata prin algoritmul stochastic gradient descent: 0.03452710322128866\n",
      "Vectorul de ponderi: [  0.22497468   0.36307207   0.20600656  11.176838     2.660374\n",
      "   1.3089219   -2.9550188   -2.9550188   -1.3089412    0.22497468\n",
      "   0.8542994    3.5726602    0.22497468 -19.194073     5.1006675\n",
      "   0.15175103   0.6051867 ]\n"
     ]
    }
   ],
   "source": [
    "# Obtine valorile estimate de model, calculeaza eroarea intre estimare si \n",
    "# ground truth.\n",
    "\n",
    "# estimare facuta de model\n",
    "y_hat = h(X,w)\n",
    "# mean squared error pe setul de antrenare\n",
    "error_sgd = mean_squared_error(y,y_hat)\n",
    "\n",
    "print('Eroarea determinata prin algoritmul stochastic gradient descent:', error_sgd)\n",
    "print('Vectorul de ponderi:', w[:, 0])"
   ]
  },
  {
   "cell_type": "markdown",
   "metadata": {},
   "source": [
    "### Pseudoinverse method"
   ]
  },
  {
   "cell_type": "code",
   "execution_count": 19,
   "metadata": {},
   "outputs": [
    {
     "name": "stdout",
     "output_type": "stream",
     "text": [
      "Eroarea determinata prin metoda pseudoinversei: 0.008010137201200612\n"
     ]
    }
   ],
   "source": [
    "# se calculeaza w cu metoda pseudoinversei \n",
    "w_pinv = np.dot(np.linalg.pinv(X),y)\n",
    "# se calculeaza estimarea data cu ponderile w_pinv\n",
    "y_hat_pinv = h(X,w_pinv)\n",
    "\n",
    "# se calculeaza eroarea patratica medie\n",
    "error_pinv = mean_squared_error(y,y_hat_pinv)\n",
    "print('Eroarea determinata prin metoda pseudoinversei:', error_pinv)"
   ]
  },
  {
   "cell_type": "code",
   "execution_count": 20,
   "metadata": {},
   "outputs": [
    {
     "name": "stdout",
     "output_type": "stream",
     "text": [
      "1.7378978e-14\n"
     ]
    }
   ],
   "source": [
    "print(np.linalg.norm(gradient(X, w_pinv, y)))"
   ]
  },
  {
   "cell_type": "code",
   "execution_count": 21,
   "metadata": {},
   "outputs": [
    {
     "name": "stdout",
     "output_type": "stream",
     "text": [
      "[  0.29015495   0.39839967   5.56767682  40.06318117   5.89697855\n",
      "   4.03988449 -20.25484653 -20.25484653 -18.34254684   0.29015495\n",
      "   1.81835155  11.32697686   0.29015495 -37.23147039   1.22929938\n",
      "  -0.88382777  25.32182337]\n"
     ]
    }
   ],
   "source": [
    "# afiseaza ponderile determinate prin metoda pseudoinversei\n",
    "\n",
    "print(w_pinv[:, 0])"
   ]
  },
  {
   "cell_type": "markdown",
   "metadata": {},
   "source": [
    "## Split validation"
   ]
  },
  {
   "cell_type": "code",
   "execution_count": 22,
   "metadata": {},
   "outputs": [],
   "source": [
    "# imparte setul initial in 70% antrenare si 30% testare\n",
    "data = np.random.permutation(data)\n",
    "split_percentage = 0.7\n",
    "\n",
    "split_index = int(split_percentage * data.shape[0])\n",
    "\n",
    "data_train = data[0:split_index,]\n",
    "data_test = data[split_index:,]\n",
    "\n",
    "X_train, y_train = get_input_output(data_train)\n",
    "X_test, y_test = get_input_output(data_test)"
   ]
  },
  {
   "cell_type": "code",
   "execution_count": 23,
   "metadata": {},
   "outputs": [],
   "source": [
    "# scaleaza datele de intrare din setul de antrenare si obtine minimele \n",
    "# si maximele pe coloane \n",
    "X_train, min_X_train, max_X_train = scale_matrix(X_train)\n",
    "# scaleaza datele de iesire din setul de antrenare si obtine minimul si \n",
    "# maximul pe coloana\n",
    "y_train, min_y_train, max_y_train = scale_matrix(y_train)"
   ]
  },
  {
   "cell_type": "code",
   "execution_count": 24,
   "metadata": {},
   "outputs": [],
   "source": [
    "# scaleaza datele de intrare din setul de test, folosind minimele si maximele \n",
    "# pe coloane aflate de la X_train \n",
    "X_test = scale_matrix_with_known_minmax(X_test, min_X_train, max_X_train)\n",
    "\n",
    "# scaleaza datele de iesire din setul de test, folosind minimul si maximul \n",
    "# pe coloana aflate de la y_train\n",
    "y_test = scale_matrix_with_known_minmax(y_test, min_y_train, max_y_train)"
   ]
  },
  {
   "cell_type": "code",
   "execution_count": 25,
   "metadata": {},
   "outputs": [
    {
     "name": "stdout",
     "output_type": "stream",
     "text": [
      "index 0 error: 0.17024398419729442\n",
      "index 1000 error: 0.0422720319483041\n",
      "index 2000 error: 0.040912553438164856\n",
      "index 3000 error: 0.040017088066858275\n",
      "index 4000 error: 0.03933370971261628\n",
      "index 5000 error: 0.03876019580521063\n",
      "index 6000 error: 0.03824908535863709\n",
      "index 7000 error: 0.037776212055581064\n",
      "index 8000 error: 0.03732851902322338\n",
      "index 9000 error: 0.03689864428985939\n",
      "index 10000 error: 0.0364823081925935\n",
      "index 11000 error: 0.03607694943614913\n",
      "index 12000 error: 0.035680984326155275\n",
      "index 13000 error: 0.03529340262196641\n",
      "index 14000 error: 0.03491353674784508\n",
      "index 15000 error: 0.03454091952139471\n",
      "index 16000 error: 0.034175204324107464\n",
      "index 17000 error: 0.03381610199345633\n",
      "index 18000 error: 0.03346341881039652\n",
      "index 19000 error: 0.03311694674270607\n",
      "index 20000 error: 0.03277650131914706\n",
      "index 21000 error: 0.032441955147641324\n",
      "index 22000 error: 0.032113156344552925\n",
      "index 23000 error: 0.031789953095626856\n",
      "index 24000 error: 0.03147223074421533\n",
      "index 25000 error: 0.031159850652697545\n",
      "index 26000 error: 0.030852698146360408\n",
      "index 27000 error: 0.0305506513374336\n",
      "index 28000 error: 0.03025359370992427\n",
      "index 29000 error: 0.029961407990413476\n",
      "index 30000 error: 0.029674002363224376\n",
      "index 31000 error: 0.02939129485534892\n",
      "index 32000 error: 0.029113150016755324\n",
      "index 33000 error: 0.028839462901378635\n",
      "index 34000 error: 0.028570142553822\n",
      "index 35000 error: 0.028305166722857766\n",
      "index 36000 error: 0.02804438312510339\n",
      "index 37000 error: 0.027787711217942858\n",
      "index 38000 error: 0.027535002885899464\n",
      "index 39000 error: 0.027286318821660462\n",
      "index 40000 error: 0.02704151001653143\n",
      "index 41000 error: 0.026800437895125477\n",
      "index 42000 error: 0.026563074515486305\n",
      "index 43000 error: 0.026329415993593338\n",
      "index 44000 error: 0.02609926606091036\n",
      "index 45000 error: 0.025872598340562297\n",
      "index 46000 error: 0.025649430482152402\n",
      "index 47000 error: 0.025429558296864666\n",
      "index 48000 error: 0.025213007828319853\n",
      "index 49000 error: 0.02499973047185541\n",
      "index 50000 error: 0.024789509134751676\n",
      "index 51000 error: 0.02458251395904293\n",
      "index 52000 error: 0.02437848789527567\n",
      "index 53000 error: 0.02417750690788862\n",
      "index 54000 error: 0.023979416785222113\n",
      "index 55000 error: 0.023784238792781465\n",
      "index 56000 error: 0.02359187980830797\n",
      "index 57000 error: 0.0234022950772788\n",
      "index 58000 error: 0.02321539860674098\n",
      "index 59000 error: 0.02303120325644313\n",
      "index 60000 error: 0.022849559905872226\n",
      "index 61000 error: 0.022670598966349084\n",
      "index 62000 error: 0.022494078484614998\n",
      "index 63000 error: 0.02232011442220193\n",
      "index 64000 error: 0.022148530735086627\n",
      "index 65000 error: 0.021979320770133506\n",
      "index 66000 error: 0.021812564503419233\n",
      "index 67000 error: 0.02164801704618664\n",
      "index 68000 error: 0.021485797112574322\n",
      "index 69000 error: 0.021325741408119565\n",
      "index 70000 error: 0.021167923135458754\n",
      "index 71000 error: 0.021012181118077317\n",
      "index 72000 error: 0.02085869954775581\n",
      "index 73000 error: 0.020707091290161204\n",
      "index 74000 error: 0.020557648958293533\n",
      "index 75000 error: 0.020410138823324122\n",
      "index 76000 error: 0.02026469940359408\n",
      "index 77000 error: 0.0201209194681661\n",
      "index 78000 error: 0.019979323862391866\n",
      "index 79000 error: 0.019839568268820613\n",
      "index 80000 error: 0.019701429968591488\n",
      "index 81000 error: 0.019565484796055868\n",
      "index 82000 error: 0.019430977392632456\n",
      "index 83000 error: 0.01929840031690277\n",
      "index 84000 error: 0.019167506978558096\n",
      "index 85000 error: 0.019038124505673822\n",
      "index 86000 error: 0.018910704241911075\n",
      "index 87000 error: 0.01878453091096291\n",
      "index 88000 error: 0.018660389595112587\n",
      "index 89000 error: 0.01853742783912131\n",
      "index 90000 error: 0.018416321453095876\n",
      "index 91000 error: 0.018296573628140897\n",
      "index 92000 error: 0.018178388548815733\n",
      "index 93000 error: 0.018061692450121566\n",
      "index 94000 error: 0.01794637885961821\n",
      "index 95000 error: 0.017832556962953803\n",
      "index 96000 error: 0.017720056556090377\n",
      "index 97000 error: 0.01760911325703735\n",
      "index 98000 error: 0.01749931037016496\n",
      "index 99000 error: 0.017391111128809623\n"
     ]
    }
   ],
   "source": [
    "# antreneaza linear regression pe setul de antrenare, obtine ponderile\n",
    "# modelului\n",
    "w_train, losses_train = train(X_train, y_train, max_iters=100000, alpha=0.25,lmbda=0.0)\n",
    "# restul parametrilor ca la apelul de antrenare de mai sus"
   ]
  },
  {
   "cell_type": "code",
   "execution_count": 26,
   "metadata": {},
   "outputs": [
    {
     "name": "stdout",
     "output_type": "stream",
     "text": [
      "MSE pentru setul de testare: 0.03462588451082689\n"
     ]
    }
   ],
   "source": [
    "# obtine estimarile date de model pe setul de testare\n",
    "y_hat_test =  h(X_test,w_train)\n",
    "print('MSE pentru setul de testare:', mean_squared_error(y_test, y_hat_test))"
   ]
  },
  {
   "cell_type": "code",
   "execution_count": 27,
   "metadata": {},
   "outputs": [
    {
     "data": {
      "text/plain": [
       "Text(0, 0.5, 'Diferenta intre ground truth si valoarea estimata')"
      ]
     },
     "execution_count": 27,
     "metadata": {},
     "output_type": "execute_result"
    },
    {
     "data": {
      "image/png": "[encoded data removed]",
      "text/plain": [
       "<Figure size 864x576 with 1 Axes>"
      ]
     },
     "metadata": {
      "needs_background": "light"
     },
     "output_type": "display_data"
    }
   ],
   "source": [
    "# reprezentarea diferentei intre ground truth si estimare pe setul de testare\n",
    "plt.figure(figsize=(12, 8))\n",
    "plt.title('Erori reziduale pe setul de testare')\n",
    "plt.plot(y_test - y_hat_test)\n",
    "plt.xlabel('Data de intrare')\n",
    "plt.ylabel('Diferenta intre ground truth si valoarea estimata')"
   ]
  }
 ],
 "metadata": {
  "kernelspec": {
   "display_name": "Python 3",
   "language": "python",
   "name": "python3"
  },
  "language_info": {
   "codemirror_mode": {
    "name": "ipython",
    "version": 3
   },
   "file_extension": ".py",
   "mimetype": "text/x-python",
   "name": "python",
   "nbconvert_exporter": "python",
   "pygments_lexer": "ipython3",
   "version": "3.7.6"
  }
 },
 "nbformat": 4,
 "nbformat_minor": 4
}
