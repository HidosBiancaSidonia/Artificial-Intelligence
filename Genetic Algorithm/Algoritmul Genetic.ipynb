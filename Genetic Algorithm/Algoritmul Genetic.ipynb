{
 "cells": [
  {
   "cell_type": "markdown",
   "metadata": {},
   "source": [
    "# Algoritmi Genetici"
   ]
  },
  {
   "cell_type": "code",
   "execution_count": 1,
   "metadata": {},
   "outputs": [],
   "source": [
    "import numpy as np\n",
    "from functools import reduce"
   ]
  },
  {
   "cell_type": "markdown",
   "metadata": {},
   "source": [
    "__1. Sa se implementeze un algoritm genetic care sa calculeze maximul functiei :__\n",
    "\n",
    "${f: [-20,20] x [-5,5] -> (0,\\inf)}$\n",
    "\n",
    "### ${f(x,y) = \\left | \\frac{10x^{2}y-5x^{2}-4y^{2}-x^{4}-2y^{4}}{2} \\right |+1}$\n",
    "\n",
    "\n",
    "\n",
    "${\\bigstar }$ Parametrii algoritmului:\n",
    "\n",
    "__n__- numarul de indivizi din populatie\n",
    "\n",
    "__k__- numarul de gene, numarul de biti care intra in cadrul fiecarui individ\n",
    "\n",
    "__c__- cromozom (sir de k biti)\n",
    "\n",
    "__${p_{c}}$__-parametru al aplicatiei folosit pt alegerea cromozomilor care vor participa la incrucisare\n",
    "\n",
    "__t__-numar aleatoriu folosit pt impartirea genelor parintilor catre cei doi copii\n",
    "\n",
    "__${p_{m}}$__-parametru al aplicatiei folosit pt alegerea cromozomilor care sufera o mutatie"
   ]
  },
  {
   "cell_type": "markdown",
   "metadata": {},
   "source": [
    "## Hiperparametrii"
   ]
  },
  {
   "cell_type": "code",
   "execution_count": 2,
   "metadata": {},
   "outputs": [],
   "source": [
    "a_1 = -20\n",
    "b_1 = 20\n",
    "a_2 = -5\n",
    "b_2 = 5\n",
    "\n",
    "n = 1000 #100 cromozomi, indivizi\n",
    "k = 50 #50 gene per cromozom\n",
    "pc = 0.1\n",
    "pm = 0.01\n",
    "nr_generatii = 100 #generatii"
   ]
  },
  {
   "cell_type": "markdown",
   "metadata": {},
   "source": [
    "## Crearea unei populatii"
   ]
  },
  {
   "cell_type": "code",
   "execution_count": 3,
   "metadata": {},
   "outputs": [],
   "source": [
    "def f(x, y):\n",
    "    \"\"\"    \n",
    "    :return: returneaza functia careia trebuie sa-i calculam maximul\n",
    "    \"\"\"\n",
    "    \n",
    "    return np.absolute((10*x**2*y - 5*x**2 - 4*y**2 - x**4 - 2*y**4) / 2) + 1"
   ]
  },
  {
   "cell_type": "code",
   "execution_count": 4,
   "metadata": {},
   "outputs": [],
   "source": [
    "def setare_gene_biti(k: int) -> list:\n",
    "    \"\"\"    \n",
    "    :param k: un integer care reprezinta numarul de biti, gene care intra in cadrul fiecarui individ, cromozom\n",
    "    :return: returneaza o lista de cifre binare aleatoare de lungime egala cu lungimea setata prin hiperparametrul k\n",
    "    \"\"\"\n",
    "    \n",
    "    return np.random.randint(2,size=(1,k))"
   ]
  },
  {
   "cell_type": "code",
   "execution_count": 5,
   "metadata": {},
   "outputs": [],
   "source": [
    "def setare_cromozomi(k: int,n: int) -> list:\n",
    "    \"\"\"    \n",
    "    :param n: un integer care reprezinta numarul de cromozomi, de indivizi din populatie\n",
    "    :param k: un integer care reprezinta numarul de biti, gene care intra in cadrul fiecarui individ, cromozom\n",
    "    :return: returneaza o lista de cromozomi initiali\n",
    "    \"\"\"\n",
    "    \n",
    "    cromozomi = []\n",
    "    for i in range(n):\n",
    "        cromozomi.append(setare_gene_biti(k))\n",
    "    #print(cromozomi)\n",
    "    return cromozomi"
   ]
  },
  {
   "cell_type": "code",
   "execution_count": 6,
   "metadata": {},
   "outputs": [],
   "source": [
    "def v(c :list) -> int:\n",
    "    \"\"\"    \n",
    "    Functia face o transformarea in baza 10.\n",
    "    :param c: cromozom\n",
    "    :return: returneaza genele cromozomului in baza 10\n",
    "    \"\"\"\n",
    "    \n",
    "    powers_two = (2.0**np.arange(k)[::-1]).astype(np.int64)\n",
    "    decimal_value = np.dot(c,powers_two)\n",
    "    return decimal_value\n",
    "    "
   ]
  },
  {
   "cell_type": "code",
   "execution_count": 7,
   "metadata": {},
   "outputs": [],
   "source": [
    "def val_interval(c :list, a: int, b: int, k: int):\n",
    "    \"\"\"    \n",
    "    :param c: cromozom\n",
    "    :return: returneaza valoarea asociata cromozomilor in intervalul [a,b]\n",
    "    \"\"\"\n",
    "    \n",
    "    return a+v(c)*((b-a)/(2**k-1))"
   ]
  },
  {
   "cell_type": "markdown",
   "metadata": {},
   "source": [
    "## Functii ajutatoare "
   ]
  },
  {
   "cell_type": "code",
   "execution_count": 8,
   "metadata": {},
   "outputs": [],
   "source": [
    "def in_interval(array: list, valoare: float) -> int:\n",
    "    \"\"\"\n",
    "    Functie ajutatoare pentru pasul de selectie. In aceasta functie se alege indexul cromozomilor care vor fi \n",
    "    pastrati pentru urmatorii pasi. \n",
    "    :param array: probabilitate cumulativa de selectie\n",
    "    :param valoare: o valoare din lista de valori random \n",
    "    :return: indexul celor mai buni indivizi\n",
    "    \"\"\"\n",
    "    \n",
    "    veriable = list(array.copy())\n",
    "    veriable.append(valoare)\n",
    "    veriable = sorted(veriable)\n",
    "    return veriable.index(valoare)"
   ]
  },
  {
   "cell_type": "code",
   "execution_count": 9,
   "metadata": {},
   "outputs": [],
   "source": [
    "def cross(cromozomi_incrucisare: list, t: int) -> list:\n",
    "    \"\"\"\n",
    "    Functie ajutatoare pentru pasul de incrucisare. In aceasta functie parintii alesi se vor incrucisa si vor rezulta noii \n",
    "    cromozomi, copii.\n",
    "    :param cromozomi_incrucisare: lista de cromozomi, de parinti alesi pentru incrucisare\n",
    "    :param t: numar aleatoriu folosit pt impartirea genelor parintilor catre cei doi copii\n",
    "    :return: lista cromozomilor, copiilor dupa incrucisarea parintilor\n",
    "    \"\"\"\n",
    "    \n",
    "    cromozomii_noi = []\n",
    "    tata = reduce(lambda x,y: x+y,cromozomi_incrucisare[0])\n",
    "    mama = reduce(lambda x,y: x+y,cromozomi_incrucisare[1])\n",
    "    \n",
    "    for j in range(0,len(cromozomi_incrucisare)-1):\n",
    "        copil1 = np.concatenate((tata[:t] , mama[t:]), axis=None)\n",
    "        copil2 = np.concatenate((mama[:t] , tata[t:]), axis=None)\n",
    "        cromozomii_noi.append(copil1)\n",
    "        \n",
    "        tata = copil2\n",
    "        if j!=len(cromozomi_incrucisare)-2:\n",
    "            mama = reduce(lambda x,y: x+y,cromozomi_incrucisare[j+2])\n",
    "        \n",
    "    cromozomii_noi.append(copil2)\n",
    "    return cromozomii_noi"
   ]
  },
  {
   "cell_type": "code",
   "execution_count": 10,
   "metadata": {},
   "outputs": [],
   "source": [
    "def flip(c: int) -> int:\n",
    "    \"\"\"\n",
    "    Functie ajutatoare pentru pasul de mutatie. Cand gena unui cromozom este 0 prin mutatie devin 1 si invers.\n",
    "    :param c: o gena a unui cromozom \n",
    "    :return: returneaza 1 sau 0\n",
    "    \"\"\"\n",
    "\n",
    "    return 1 if (c == 0) else 0"
   ]
  },
  {
   "cell_type": "markdown",
   "metadata": {},
   "source": [
    "## Algoritmul Genetic"
   ]
  },
  {
   "cell_type": "code",
   "execution_count": 11,
   "metadata": {},
   "outputs": [],
   "source": [
    "def selectia(functie: list, cromozomi: list) -> list:\n",
    "    \"\"\"\n",
    "    :param cromozomi: lista de cromozomi\n",
    "    :param functie: valorile asociate functiei\n",
    "    :return: returneaza valoarea noilor cromozomi dupa selectie\n",
    "    \"\"\"\n",
    "    \n",
    "    suma = np.sum(functie)\n",
    "    probabilitate_selectie = functie/suma\n",
    "    probabilitate_cumulativa_selectie = np.cumsum(probabilitate_selectie)\n",
    "    rand_selection = np.random.uniform(0, 1, n) \n",
    "    cromozomi_noi = [cromozomi[in_interval(probabilitate_cumulativa_selectie,rand_selection[i])] for i in range(0,n)]\n",
    "    return cromozomi_noi"
   ]
  },
  {
   "cell_type": "code",
   "execution_count": 12,
   "metadata": {},
   "outputs": [],
   "source": [
    "def incrucisare(cromozomi: list) -> list:\n",
    "    \"\"\"\n",
    "    :param cromozomi: lista de cromozomi\n",
    "    :return: returneaza valoarea noilor cromozomi dupa incrucisare\n",
    "    \"\"\"\n",
    "    \n",
    "    rand_incrucisare = np.random.uniform(0, 1, n) \n",
    "    index_incrucisare = reduce(lambda x,y: x+y,np.where(rand_incrucisare < pc))\n",
    "    if len(index_incrucisare) % 2 != 0 :\n",
    "        index_incrucisare = index_incrucisare[:-1]\n",
    "\n",
    "    cromozomi_incrucisare = [cromozomi[i] for i in index_incrucisare]\n",
    "    t = np.random.randint(1, k-1)\n",
    "    cromozomi_incrucisare = cross(cromozomi_incrucisare,t)\n",
    "    \n",
    "    return cromozomi_incrucisare"
   ]
  },
  {
   "cell_type": "code",
   "execution_count": 13,
   "metadata": {},
   "outputs": [],
   "source": [
    "def mutatie(cromozomi: list) -> list:\n",
    "    \"\"\"\n",
    "    :param cromozomi: lista de cromozomi\n",
    "    :return: returneaza valoarea noilor cromozomi dupa mutatie\n",
    "    \"\"\"\n",
    "    \n",
    "    for i in range(0,len(cromozomi)):\n",
    "        rand_mutation = np.random.uniform(0, 1, k) \n",
    "        index_mutatie = reduce(lambda x,y: x+y,np.where(rand_mutation < pm))\n",
    "        for j in index_mutatie:\n",
    "            cromozomi[i][j] = flip(cromozomi[i][j])\n",
    "    return cromozomi"
   ]
  },
  {
   "cell_type": "code",
   "execution_count": 14,
   "metadata": {
    "scrolled": true
   },
   "outputs": [],
   "source": [
    "def algoritm_genetic(k: int, n: int):\n",
    "    \"\"\"   \n",
    "    Functia construieste un fisier cu valorile cromozomilor x si y si cu valoarea functiei corespunzatoare acestor cromozomi\n",
    "    dupa aplicarea algoritmului genetic.\n",
    "    Aceste valori se introduc in fisierul text pentru fiecare generatie.\n",
    "    :param k: un integer care reprezinta numarul de biti, gene care intra in cadrul fiecarui individ, cromozom\n",
    "    :param n: un integer care reprezinta numarul de cromozomi, de indivizi din populatie\n",
    "    \"\"\"\n",
    "    \n",
    "    file = open(\"fisier_iesire_alg_gen.txt\",'w') \n",
    "    cromozomi = setare_cromozomi(k,n)\n",
    "    for generatia in range(0,nr_generatii):\n",
    "        file.writelines('#inceput date generatie %d \\n' %generatia)\n",
    "    \n",
    "        x = val_interval(cromozomi, a_1, b_1, k)\n",
    "        y = val_interval(cromozomi, a_2, b_2, k)\n",
    "        functie = f(x,y)\n",
    "        \n",
    "        for i in range(0,len(cromozomi)):\n",
    "            file.writelines('cromozom: x=%f y=%f \\n' % (x[i],y[i]))\n",
    "            file.writelines('valoare: %f \\n' %functie[i])\n",
    "       \n",
    "        cromozomii_dupa_selectie = selectia(functie, cromozomi)\n",
    "        cromozomii_dupa_incrucisare = incrucisare(np.array(cromozomii_dupa_selectie))\n",
    "        cromozomii_dupa_mutatie = mutatie(cromozomii_dupa_incrucisare)\n",
    "        for i in range(0,len(cromozomii_dupa_mutatie)):\n",
    "            cromozomii_dupa_mutatie[i] = cromozomii_dupa_mutatie[i].reshape(-1,len(cromozomii_dupa_mutatie[i]))\n",
    "        cromozomi= cromozomii_dupa_mutatie\n",
    "        \n",
    "        file.writelines('#sfarsit date generatie %d \\n' %generatia)\n",
    "        \n",
    "    file.close()\n",
    "          \n",
    "algoritm_genetic(k,n)"
   ]
  }
 ],
 "metadata": {
  "kernelspec": {
   "display_name": "Python 3",
   "language": "python",
   "name": "python3"
  },
  "language_info": {
   "codemirror_mode": {
    "name": "ipython",
    "version": 3
   },
   "file_extension": ".py",
   "mimetype": "text/x-python",
   "name": "python",
   "nbconvert_exporter": "python",
   "pygments_lexer": "ipython3",
   "version": "3.7.6"
  }
 },
 "nbformat": 4,
 "nbformat_minor": 4
}
