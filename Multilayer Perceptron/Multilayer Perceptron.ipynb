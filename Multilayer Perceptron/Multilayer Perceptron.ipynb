{
 "cells": [
  {
   "cell_type": "markdown",
   "metadata": {},
   "source": [
    "# Load data"
   ]
  },
  {
   "cell_type": "code",
   "execution_count": 1,
   "metadata": {
    "ExecuteTime": {
     "end_time": "2020-04-15T05:32:33.688762Z",
     "start_time": "2020-04-15T05:32:33.683775Z"
    }
   },
   "outputs": [],
   "source": [
    "import numpy as np\n",
    "import pandas as pd\n",
    "import matplotlib.pyplot as plt\n",
    "from typing import Tuple, List, Callable"
   ]
  },
  {
   "cell_type": "code",
   "execution_count": 2,
   "metadata": {},
   "outputs": [],
   "source": [
    "#import visdom as vs\n",
    "\n",
    "#vis = vs.Visdom()\n",
    "#vis2 = vs.Visdom()\n",
    "#vis.text('Hidos Bianca Grupa',env='main')"
   ]
  },
  {
   "cell_type": "code",
   "execution_count": 3,
   "metadata": {
    "ExecuteTime": {
     "end_time": "2020-04-15T05:32:33.703722Z",
     "start_time": "2020-04-15T05:32:33.694747Z"
    }
   },
   "outputs": [],
   "source": [
    "def load_file(path: str) -> Tuple[np.ndarray, np.ndarray]:\n",
    "    \"\"\"Loads the data from the file stored at :param path: and returns the \n",
    "    input values and the class labels.\n",
    "    :param path: path of a CVS file with data\n",
    "    :return: a tuple containing the input matrix of shape (n, p) and a line \n",
    "    vector with the m class labels in {0, ..., 9}\n",
    "    \"\"\"\n",
    "    data = pd.read_csv(path, header=None).values\n",
    "    X = data[:,1:]\n",
    "    X = X.T\n",
    "    y = data[:,0].reshape(1,-1)\n",
    "    assert X.ndim ==  2, 'Matrix required for input values'\n",
    "    assert y.ndim == 2, 'Column matrix required for labels'\n",
    "    assert y.shape == (1, X.shape[1]), 'Same number of lines is required'\n",
    "    return X, y"
   ]
  },
  {
   "cell_type": "code",
   "execution_count": 4,
   "metadata": {
    "ExecuteTime": {
     "end_time": "2020-04-15T05:32:33.710703Z",
     "start_time": "2020-04-15T05:32:33.706715Z"
    }
   },
   "outputs": [],
   "source": [
    "path_train = './data/mnist_train.csv'\n",
    "path_test = './data/mnist_test.csv'"
   ]
  },
  {
   "cell_type": "code",
   "execution_count": 5,
   "metadata": {
    "ExecuteTime": {
     "end_time": "2020-04-15T05:32:38.182596Z",
     "start_time": "2020-04-15T05:32:33.713696Z"
    }
   },
   "outputs": [],
   "source": [
    "X_train, y_train = load_file(path_train)\n",
    "assert X_train.shape == (784, 60000)\n",
    "assert y_train.shape == (1, 60000)\n",
    "\n",
    "X_test, y_test = load_file(path_test)\n",
    "assert X_test.shape == (784, 10000)\n",
    "assert y_test.shape == (1, 10000)"
   ]
  },
  {
   "cell_type": "code",
   "execution_count": 6,
   "metadata": {
    "ExecuteTime": {
     "end_time": "2020-04-15T05:32:38.194562Z",
     "start_time": "2020-04-15T05:32:38.184589Z"
    }
   },
   "outputs": [],
   "source": [
    "def scale_values(X: np.ndarray) -> np.ndarray:\n",
    "    \"\"\"Scales the values to range [0, 1].\n",
    "    :param X: an (m, n) matrix with values between 0 and 255.\n",
    "    :return: an (m, n) matrix containing values of :param X: scaled in [0, 1]\n",
    "    \"\"\"\n",
    "    result = X/np.max(X)\n",
    "    assert 0 <= np.min(result) <= np.max(result) <= 1, 'Scaled values should be in [0, 1]'\n",
    "    assert X.shape == result.shape, 'Scaling preserves shape'\n",
    "    return result"
   ]
  },
  {
   "cell_type": "code",
   "execution_count": 7,
   "metadata": {
    "ExecuteTime": {
     "end_time": "2020-04-15T05:32:38.531663Z",
     "start_time": "2020-04-15T05:32:38.203540Z"
    }
   },
   "outputs": [],
   "source": [
    "X_train = scale_values(X_train)\n",
    "assert X_train.shape == (784, 60000)\n",
    "X_test = scale_values(X_test)\n",
    "assert X_test.shape == (784, 10000)"
   ]
  },
  {
   "cell_type": "markdown",
   "metadata": {
    "ExecuteTime": {
     "end_time": "2019-11-24T15:41:07.997557Z",
     "start_time": "2019-11-24T15:41:07.991110Z"
    }
   },
   "source": [
    "# Create model"
   ]
  },
  {
   "cell_type": "markdown",
   "metadata": {},
   "source": [
    "## Define model's architecture"
   ]
  },
  {
   "cell_type": "code",
   "execution_count": 8,
   "metadata": {
    "ExecuteTime": {
     "end_time": "2020-04-15T05:32:38.541636Z",
     "start_time": "2020-04-15T05:32:38.535651Z"
    }
   },
   "outputs": [],
   "source": [
    "m = 10 # number of classes\n",
    "n, p = X_train.shape\n",
    "architecture = [n, 100, m] # list: [input_size, hidden1, hidden2, ..., output_size]\n",
    "\n",
    "assert len(architecture) >= 3, 'At least one hidden layer'\n",
    "assert architecture[0] == n\n",
    "assert architecture[-1] == m"
   ]
  },
  {
   "cell_type": "markdown",
   "metadata": {},
   "source": [
    "Ponderile sunt initializate conform strategiei lui Xavier Glorot. Pentru o matrice de ponderi $W^{[l]}$ de forma $n_{l} \\times n_{l-1}$, ponderile pot fi initializate cu o distributie uniforma in intervalul \n",
    "$$\n",
    "\\left[-\\frac{\\sqrt{6}}{\\sqrt{n_{l} + n_{l-1}}}, +\\frac{\\sqrt{6}}{\\sqrt{n_{l} + n_{l-1}}}\\right]\n",
    "$$\n",
    "\n",
    "Ponderile de bias se obisnuiesc a se initializa cu 0; intializarea aleatoare a ponderilor W este considerata suficienta pentru a obtine spargerea simetriei.\n",
    "\n",
    "Ref: [Understanding the difficulty of training deep feedforward neural networks](http://proceedings.mlr.press/v9/glorot10a/glorot10a.pdf)"
   ]
  },
  {
   "cell_type": "code",
   "execution_count": 9,
   "metadata": {
    "ExecuteTime": {
     "end_time": "2020-04-15T05:32:38.567564Z",
     "start_time": "2020-04-15T05:32:38.545624Z"
    }
   },
   "outputs": [],
   "source": [
    "def create_weights(architecture: List[int], init_type:str='glorot_uniform') -> Tuple[List[np.array], List[np.array]]:\n",
    "    \"\"\"Creates the list of weights and biases for the given architecture.\n",
    "    :param architecture: list of number of nodes in each layer \n",
    "    (including input and ouotput layers)\n",
    "    :param init_type: name of initialization parameter. Defaults to \n",
    "    'glorot_uniform', add other supported initializtion strategies.\n",
    "    :return: a tuple containing: list of weight matrices W, a list of bias \n",
    "    column vectors. The two lists have the same numer of elements, number of \n",
    "    layers - 1.\n",
    "    \"\"\"\n",
    "    L = len(architecture)\n",
    "    W, b = [], []\n",
    "    # initializare de ponderi\n",
    "    for n_lplus1, nl in zip(architecture[1:], architecture[:-1]):\n",
    "        W.append(np.random.uniform(-np.sqrt(6)/np.sqrt(n_lplus1 + nl), np.sqrt(6)/np.sqrt(n_lplus1 + nl),(n_lplus1, nl)))\n",
    "    for n_l in architecture[1:]:\n",
    "        b.append(np.vstack(np.zeros(n_l))) #vector coloana\n",
    "    assert len(W) == len(b) == L-1\n",
    "    for i, w in enumerate(W):\n",
    "        assert w.shape == (architecture[i+1], architecture[i]), f'Shape of W[{i}] should be ({L[i+1], L[i]})'\n",
    "    for i, _b in enumerate(b):\n",
    "        assert _b.shape == (architecture[i+1], 1), f'Shape of b[{i}] should be ({L[i+1]}, 1)'\n",
    "    if init_type == 'glorot_uniform':\n",
    "        for i, w in enumerate(W):\n",
    "            w_shape_sum = np.sum(w.shape)\n",
    "            assert -np.sqrt(6)/np.sqrt(w_shape_sum) <= np.min(w) <= np.sqrt(6)/np.sqrt(w_shape_sum), f\"Values of W[{i}] should be according to Glorot's initialization\"\n",
    "        for i, _b in enumerate(b):\n",
    "            assert 0 == np.min(_b) == np.min(_b) == 0, f\"Values of b[{i}] should be initialized to 0\"\n",
    "    return W, b"
   ]
  },
  {
   "cell_type": "code",
   "execution_count": 10,
   "metadata": {
    "ExecuteTime": {
     "end_time": "2020-04-15T05:32:38.584519Z",
     "start_time": "2020-04-15T05:32:38.569559Z"
    }
   },
   "outputs": [],
   "source": [
    "def sigmoid(z: np.array) -> np.array:\n",
    "    \"\"\"Computes sigmoid activation function\"\"\"\n",
    "    return 1.0 / (1.0 + np.exp(-z))\n",
    "\n",
    "def derivate_sigmoid(z: np.array) -> np.array:\n",
    "    \"\"\"Computes the derivatives for the sigmoid activation function\"\"\"\n",
    "    return sigmoid(z) * (1.0 - sigmoid(z))\n",
    "\n",
    "def tanh(z: np.array) -> np.array:\n",
    "    \"\"\"Computes the tanh activation function\"\"\"\n",
    "    return (np.exp(z)-np.exp(-z))/(np.exp(z)+np.exp(-z))\n",
    "\n",
    "def derivate_tanh(z: np.array) -> np.array:\n",
    "    \"\"\"Computes the derivatives for the tanh activation function\"\"\"\n",
    "    return 1.0-tanh(z)**2\n",
    "\n",
    "def ReLU(z: np.array) -> np.array:\n",
    "    \"\"\"Computes the rectified linear unit activation function\"\"\"\n",
    "    return np.maximum(0,z)\n",
    "\n",
    "def derivative_ReLU(z: np.array) -> np.array:\n",
    "    \"\"\"Computes the derivatives of the rectified linear unit activation function\"\"\"\n",
    "    return (z>0).astype(np.float)"
   ]
  },
  {
   "cell_type": "code",
   "execution_count": 11,
   "metadata": {
    "ExecuteTime": {
     "end_time": "2020-04-15T05:32:38.596496Z",
     "start_time": "2020-04-15T05:32:38.589506Z"
    }
   },
   "outputs": [],
   "source": [
    "def softmax(z, axis=0):\n",
    "    \"\"\"Applies softmax to a matrix z.\n",
    "    :param z: np.array of shape (m, k)\n",
    "    \"\"\"\n",
    "    z_max = np.max(z, axis=axis, keepdims=True)\n",
    "    exp = np.exp(z - z_max)\n",
    "    exp_sum = np.sum(exp, axis=axis, keepdims=True)\n",
    "    result = exp/exp_sum\n",
    "    assert np.allclose(np.sum(result, axis=axis), 1.0)\n",
    "    return result"
   ]
  },
  {
   "cell_type": "code",
   "execution_count": 12,
   "metadata": {
    "ExecuteTime": {
     "end_time": "2020-04-15T05:32:38.609453Z",
     "start_time": "2020-04-15T05:32:38.599481Z"
    }
   },
   "outputs": [],
   "source": [
    "W, b = create_weights(architecture=architecture)"
   ]
  },
  {
   "cell_type": "markdown",
   "metadata": {},
   "source": [
    "## Feedforward propagation"
   ]
  },
  {
   "cell_type": "code",
   "execution_count": 13,
   "metadata": {
    "ExecuteTime": {
     "end_time": "2020-04-15T15:54:14.739424Z",
     "start_time": "2020-04-15T15:54:14.320545Z"
    }
   },
   "outputs": [],
   "source": [
    "def can_multiply(a:np.array, b:np.array) -> bool:\n",
    "    return a.ndim == b.ndim == 2 and a.shape[1] == b.shape[0]\n",
    "\n",
    "def can_multiply_hadamard(a:np.array, b:np.array) -> bool:\n",
    "    return a.shape == b.shape"
   ]
  },
  {
   "cell_type": "code",
   "execution_count": 14,
   "metadata": {
    "ExecuteTime": {
     "end_time": "2020-04-15T05:32:38.636381Z",
     "start_time": "2020-04-15T05:32:38.624413Z"
    }
   },
   "outputs": [],
   "source": [
    "def model(X:np.array, W:List[np.array], b:List[np.array], f:List[Callable]) -> np.array:\n",
    "    \"\"\"Computes the output produced by the MLP for the given input X\n",
    "    :param X: np.array of shape (n, p). Each column of X is a datum from a set.\n",
    "    :param W: a list of weight matrices\n",
    "    :param b: a list of bias columns\n",
    "    :param f: a list of activation functions\n",
    "    :return: a matrix of output values produced by MLP, of shape: number of \n",
    "    predicted outputs (e.g. classes), number of input vectors p\n",
    "    \"\"\"\n",
    "    assert len(W) == len(b) == len(f)\n",
    "    p = X.shape[1]\n",
    "    a = X\n",
    "    for i, (_w, _b, _f) in enumerate(zip(W, b, f)):\n",
    "        assert can_multiply(_w, a)\n",
    "        z = _w @ a + _b\n",
    "        assert z.shape == (_w.shape[0], p)\n",
    "        a = _f(z)\n",
    "        assert a.shape == z.shape\n",
    "    assert a.shape == (W[-1].shape[0], p)\n",
    "    return a"
   ]
  },
  {
   "cell_type": "code",
   "execution_count": 15,
   "metadata": {
    "ExecuteTime": {
     "end_time": "2020-04-15T05:32:38.852801Z",
     "start_time": "2020-04-15T05:32:38.639373Z"
    }
   },
   "outputs": [],
   "source": [
    "# f[0] = functia de activare pe primul strat ascuns; \n",
    "# f[1] = functia de activare pe al doilea strat ascuns etc.\n",
    "f = [sigmoid, softmax] \n",
    "y_hat = model(X_train, W, b, f)\n",
    "\n",
    "assert y_hat.shape == (m, p)\n",
    "assert np.allclose(y_hat.sum(axis=0), np.ones(p))"
   ]
  },
  {
   "cell_type": "markdown",
   "metadata": {},
   "source": [
    "## Error function"
   ]
  },
  {
   "cell_type": "code",
   "execution_count": 16,
   "metadata": {
    "ExecuteTime": {
     "end_time": "2020-04-15T05:32:44.535803Z",
     "start_time": "2020-04-15T05:32:44.527825Z"
    }
   },
   "outputs": [],
   "source": [
    "def J(X, y, W, b, f, num_classes=10, _lambda=0.01):\n",
    "    \"\"\"Computes the error function for MLP\n",
    "    :param X: np.array of shape (n, k)\n",
    "    :param y: np.array of shape (1, k)\n",
    "    :param W: list pf MLPs weights\n",
    "    :param b: list pf MLPs biases\n",
    "    :return: loss values, composed of cross entropy + penalty term\n",
    "    \"\"\"\n",
    "    p = X.shape[1]\n",
    "    EPS = 1e-5\n",
    "    one_hot_encoding = np.zeros((num_classes,p))\n",
    "    one_hot_encoding[y,np.arange(y.size)] = 1\n",
    "    assert np.all(one_hot_encoding.sum(axis=0) == 1)\n",
    "    predicted = model(X, W, b, f)\n",
    "    predicted = np.clip(predicted, EPS, 1-EPS)\n",
    "    log_predicted = np.log(predicted)\n",
    "    temp = one_hot_encoding * log_predicted\n",
    "    loss1 = -temp.sum() / p\n",
    "    loss2 = _lambda/2.0 * np.sum([np.linalg.norm(_w)**2 for _w in W])\n",
    "    return loss1 + loss2"
   ]
  },
  {
   "cell_type": "code",
   "execution_count": 17,
   "metadata": {
    "ExecuteTime": {
     "end_time": "2020-04-02T05:08:15.074986Z",
     "start_time": "2020-04-02T05:08:15.069005Z"
    }
   },
   "outputs": [],
   "source": [
    "def accuracy(X:np.array, y:np.array, W: List[np.array], b: List[np.array], f:List[Callable]) -> float:\n",
    "    \"\"\"Computes the accuracy on a given input dataset X, with ground truth y\n",
    "    :param X: np.array of shape (n, k)\n",
    "    :param y: np.array of shape (1, k); each value is the index of a class\n",
    "    :param W: list of MLP's weights\n",
    "    :param b: list of MLP's biases\n",
    "    :param f: list of activation functions. the last one must be softmax\n",
    "    :return: ratio between correctly classified vectors and total number of cases\n",
    "    \"\"\"\n",
    "    y_hat = model(X, W, b, f)\n",
    "    y_predicted = np.argmax(y_hat ,axis=0)\n",
    "    return (y_predicted == y).sum() / X.shape[1]"
   ]
  },
  {
   "cell_type": "code",
   "execution_count": 18,
   "metadata": {
    "scrolled": true
   },
   "outputs": [],
   "source": [
    "def gradient(X: np.array, one_hot_encoding: np.array, W: List[np.array], b: List[np.array], f:List[Callable], num_classes):\n",
    "    \"\"\"\n",
    "    :param X: np.array of shape (n, p)\n",
    "    :param one_hot_encoding: np.array of shape (n, 1)\n",
    "    :param W: list of MLP's weights\n",
    "    :param b: list of MLP's biases\n",
    "    :param f: list of activations functions; the last one must be softmax\n",
    "    :param num_classes: number of classes\n",
    "    :return: a tuple consisting of: list of delta weight matrices, list of delta biases\n",
    "    \"\"\"\n",
    "    \n",
    "    f_prim = []\n",
    "    for i,_f in enumerate(reversed(list(f))): #reversed -> create a reverse iterator for an existing list\n",
    "        if _f == softmax:\n",
    "            f_prim.insert(0,softmax)\n",
    "        elif _f == sigmoid:\n",
    "            f_prim.insert(0,derivate_sigmoid)\n",
    "        elif _f == tanh:\n",
    "            f_prim.insert(0,derivate_tanh)\n",
    "        elif _f == ReLU:\n",
    "            f_prim.insert(0,derivative_ReLU)\n",
    "    #print(f_prim)\n",
    "    \n",
    "    deltaW, deltab= [], []\n",
    "    \n",
    "    for wi in W:\n",
    "        deltaW.append(np.zeros((wi.shape)))    \n",
    "    for bi in b:\n",
    "        deltab.append(np.zeros(bi.shape))\n",
    "    \n",
    "        \n",
    "    predicted = model(X_train, W, b,f)\n",
    "    delta_error_final = predicted - one_hot_encoding\n",
    "      \n",
    "    delta_error = []\n",
    "    delta_error.insert(0, delta_error_final)\n",
    "    #print(delta_error[0])\n",
    "    \n",
    "    a = model(X_train,W[:-1],b[:-1],f[:-1]) #prima din predicted\n",
    "       \n",
    "    for i,_w in enumerate(reversed(list(W))):   \n",
    "        if i == (len(W)-1):\n",
    "            break;\n",
    "        delta_error.insert(0,(_w.T@delta_error[i])*f_prim[i](model(X_train,W[i:-1],b[i:-1],f[i:-1])))\n",
    "        \n",
    "    A = []   \n",
    "    A.append(X)\n",
    "    A.append(a)\n",
    "   \n",
    "    pd_W, pd_b = [], []\n",
    "    \n",
    "    for _a, _data_error in zip(A,delta_error):\n",
    "             pd_W.append(_data_error @ _a.T)\n",
    "             pd_b.append(_data_error)\n",
    "            \n",
    "    for i,(_dw,_db, _pw,_pb) in enumerate(zip(deltaW,deltab, pd_W, pd_b)):\n",
    "        _dw += _pw\n",
    "        _db += np.sum(_pb,axis=1).reshape(-1,1)\n",
    "    \n",
    "    return deltaW, deltab\n",
    "#gradient(X_train, y_train, W, b, f, 10)"
   ]
  },
  {
   "cell_type": "markdown",
   "metadata": {},
   "source": [
    "# Train model"
   ]
  },
  {
   "cell_type": "code",
   "execution_count": 19,
   "metadata": {},
   "outputs": [],
   "source": [
    "def train(X_train: np.array, y_train: np.array, X_test: np.array, y_test: np.array, num_classes, W: List[np.array], b:List[np.array], f:List[Callable], _lambda: float, alpha: float, max_delta_error:float=1e-4) -> Tuple[List[np.array], List[np.array], List[float], List[float], List[float]]:\n",
    "    \"\"\"Runs the training on the training dataset (X, y). Stops when  \n",
    "    difference between  two succesive error values is lower than :param max_delta_error:\n",
    "    :param X_train: np.array of shape (n, k), with training cases. Each column is a training case\n",
    "    :param y_train: np.array of shape (1, k), containing labels (0=class 0, ...)\n",
    "    :param X_test: np.array of shape (n, l), with test cases. Each column is a test vector\n",
    "    :param y_test: np.array of shape (1, l), containing labels (0=class 0, ...)\n",
    "    :param num_classes: number of classes\n",
    "    :param W: list of MLP's weights\n",
    "    :param b: list of MLP's biases\n",
    "    :param f: list of activations functions; the last one must be softmax\n",
    "    :param _lambda: coefficient >= for the L2 penalty term\n",
    "    :param alpha: > 0, learning rate\n",
    "    :max_delta_error: >0, a threshold for max absolute difference of succesive loss values\n",
    "    :return: a tuple consisting of: list of weight matrices, list of biases, list of errors computed at each epoch on training set, 2 lists of accuracies on training and on test set at each epoch\n",
    "    \"\"\"\n",
    "    errors = [J(X_train, y_train, W, b, f, num_classes, _lambda)]\n",
    "    errors2 = [J(X_test, y_test, W, b, f, num_classes, _lambda) ]\n",
    "    acc_train = [accuracy(X_train, y_train, W, b, f)]\n",
    "    acc_test = [accuracy(X_test, y_test, W, b, f)]\n",
    "    epoch = 0\n",
    "    #plot=vis.line(Y=[errors],X=([0]))\n",
    "    #plot2=vis2.line(Y=[errors2],X=([0]))\n",
    "    \n",
    "    n,p = X_train.shape\n",
    "    \n",
    "    one_hot_encoding = np.zeros(( num_classes,p))\n",
    "    one_hot_encoding[ y_train, np.arange(y_train.size) ] = 1\n",
    "    assert np.all(one_hot_encoding.sum(axis=0) == 1)\n",
    "    \n",
    "    while True:\n",
    "        epoch += 1\n",
    "        \n",
    "        deltaW, deltab = gradient(X_train, one_hot_encoding, W, b, f, num_classes)\n",
    "        \n",
    "        for i,(_W,_b,_deltaW,_deltab) in enumerate(zip(W, b, deltaW, deltab)):\n",
    "            _W+= -alpha*((1/p)*_deltaW+ _lambda * _W)\n",
    "            _b+= -alpha*((1/p)*_deltab)\n",
    "        \n",
    "        error = J(X_train, y_train, W, b, f, num_classes, _lambda)  \n",
    "        errors.append(error)\n",
    "        error2 = J(X_test, y_test, W, b, f, num_classes, _lambda) \n",
    "        errors2.append(error2)\n",
    "        train_acc = accuracy(X_train, y_train, W, b, f) \n",
    "        acc_train.append(train_acc)\n",
    "        test_acc = accuracy(X_test, y_test, W, b, f)\n",
    "        acc_test.append(test_acc)\n",
    "        \n",
    "        \n",
    "        \n",
    "        if epoch % 10 == 0:\n",
    "            print(f'Epoch: {epoch}, error: {error}, train accuracy: {train_acc}, test accuracy: {test_acc}')\n",
    "        if epoch % 100 == 0:\n",
    "            \n",
    "            plt.plot(errors, 'r--',label='Train error')\n",
    "            plt.plot(errors2, 'b--', label='Test error')\n",
    "            plt.title('Training and testing loss')\n",
    "            plt.legend()\n",
    "            plt.show() \n",
    "            #vis.line(Y=[errors], X=np.array([epoch]),win=plot,update='append') \n",
    "            #vis2.line(Y=[errors2], X=np.array([epoch]),win=plot2,update='append') #ploturile cu visdom\n",
    "        \n",
    "        if np.abs(errors[-1] - errors[-2]) < max_delta_error:\n",
    "            break\n",
    "       \n",
    "    return W, b, errors, acc_train, acc_test "
   ]
  },
  {
   "cell_type": "code",
   "execution_count": 20,
   "metadata": {
    "ExecuteTime": {
     "end_time": "2020-04-02T13:44:41.944041Z",
     "start_time": "2020-04-02T05:52:03.345797Z"
    },
    "scrolled": false
   },
   "outputs": [
    {
     "name": "stdout",
     "output_type": "stream",
     "text": [
      "Epoch: 10, error: 1.7405226390537185, train accuracy: 0.6846333333333333, test accuracy: 0.6979\n",
      "Epoch: 20, error: 1.3160411153224811, train accuracy: 0.76745, test accuracy: 0.7778\n",
      "Epoch: 30, error: 1.0360751195688354, train accuracy: 0.8106666666666666, test accuracy: 0.8191\n",
      "Epoch: 40, error: 0.8623538478261389, train accuracy: 0.8325666666666667, test accuracy: 0.8406\n",
      "Epoch: 50, error: 0.7505607125296802, train accuracy: 0.84665, test accuracy: 0.8548\n",
      "Epoch: 60, error: 0.6741999658026063, train accuracy: 0.8555666666666667, test accuracy: 0.8641\n",
      "Epoch: 70, error: 0.6191085540386677, train accuracy: 0.862, test accuracy: 0.87\n",
      "Epoch: 80, error: 0.577557515987879, train accuracy: 0.8672333333333333, test accuracy: 0.8742\n",
      "Epoch: 90, error: 0.5450987361376052, train accuracy: 0.8714333333333333, test accuracy: 0.8782\n",
      "Epoch: 100, error: 0.5190248291127234, train accuracy: 0.8750833333333333, test accuracy: 0.8823\n"
     ]
    },
    {
     "data": {
      "image/png": "[encoded data removed]",
      "text/plain": [
       "<Figure size 432x288 with 1 Axes>"
      ]
     },
     "metadata": {
      "needs_background": "light"
     },
     "output_type": "display_data"
    },
    {
     "name": "stdout",
     "output_type": "stream",
     "text": [
      "Epoch: 110, error: 0.4976023184358907, train accuracy: 0.8780333333333333, test accuracy: 0.8846\n",
      "Epoch: 120, error: 0.4796718703343217, train accuracy: 0.8807, test accuracy: 0.8864\n",
      "Epoch: 130, error: 0.46442912364207617, train accuracy: 0.8827333333333334, test accuracy: 0.8892\n",
      "Epoch: 140, error: 0.45129857127890066, train accuracy: 0.8849833333333333, test accuracy: 0.8905\n",
      "Epoch: 150, error: 0.43985767998809777, train accuracy: 0.8871833333333333, test accuracy: 0.8916\n",
      "Epoch: 160, error: 0.4297893731112309, train accuracy: 0.8885833333333333, test accuracy: 0.8933\n",
      "Epoch: 170, error: 0.42085120778169965, train accuracy: 0.8900333333333333, test accuracy: 0.8949\n",
      "Epoch: 180, error: 0.41285475978696257, train accuracy: 0.8915, test accuracy: 0.8959\n",
      "Epoch: 190, error: 0.40565146650035566, train accuracy: 0.8924833333333333, test accuracy: 0.8975\n",
      "Epoch: 200, error: 0.3991226805783459, train accuracy: 0.8934333333333333, test accuracy: 0.8984\n"
     ]
    },
    {
     "data": {
      "image/png": "[encoded data removed]",
      "text/plain": [
       "<Figure size 432x288 with 1 Axes>"
      ]
     },
     "metadata": {
      "needs_background": "light"
     },
     "output_type": "display_data"
    },
    {
     "name": "stdout",
     "output_type": "stream",
     "text": [
      "Epoch: 210, error: 0.39317254242747446, train accuracy: 0.8943333333333333, test accuracy: 0.8992\n",
      "Epoch: 220, error: 0.38772278344685346, train accuracy: 0.8952, test accuracy: 0.9002\n",
      "Epoch: 230, error: 0.3827088786022592, train accuracy: 0.8962333333333333, test accuracy: 0.9012\n",
      "Epoch: 240, error: 0.37807715876876646, train accuracy: 0.8970666666666667, test accuracy: 0.902\n",
      "Epoch: 250, error: 0.37378261650698347, train accuracy: 0.8978, test accuracy: 0.9024\n",
      "Epoch: 260, error: 0.3697872199026722, train accuracy: 0.8983666666666666, test accuracy: 0.9024\n",
      "Epoch: 270, error: 0.3660586033837031, train accuracy: 0.8991, test accuracy: 0.9033\n",
      "Epoch: 280, error: 0.3625690414850021, train accuracy: 0.8997833333333334, test accuracy: 0.9048\n",
      "Epoch: 290, error: 0.3592946372388004, train accuracy: 0.90025, test accuracy: 0.9054\n",
      "Epoch: 300, error: 0.35621467496019005, train accuracy: 0.90105, test accuracy: 0.9054\n"
     ]
    },
    {
     "data": {
      "image/png": "[encoded data removed]",
      "text/plain": [
       "<Figure size 432x288 with 1 Axes>"
      ]
     },
     "metadata": {
      "needs_background": "light"
     },
     "output_type": "display_data"
    },
    {
     "name": "stdout",
     "output_type": "stream",
     "text": [
      "Epoch: 310, error: 0.35331110009968475, train accuracy: 0.9016333333333333, test accuracy: 0.9063\n",
      "Epoch: 320, error: 0.350568098145076, train accuracy: 0.9023, test accuracy: 0.9065\n",
      "Epoch: 330, error: 0.3479717513479294, train accuracy: 0.9027333333333334, test accuracy: 0.9067\n",
      "Epoch: 340, error: 0.34550975705682996, train accuracy: 0.9033, test accuracy: 0.9071\n",
      "Epoch: 350, error: 0.34317119516449934, train accuracy: 0.9040333333333334, test accuracy: 0.9075\n",
      "Epoch: 360, error: 0.34094633497183946, train accuracy: 0.9044666666666666, test accuracy: 0.9083\n",
      "Epoch: 370, error: 0.3388264738878388, train accuracy: 0.90485, test accuracy: 0.9088\n",
      "Epoch: 380, error: 0.3368038019980341, train accuracy: 0.9052333333333333, test accuracy: 0.9088\n",
      "Epoch: 390, error: 0.3348712877740237, train accuracy: 0.90555, test accuracy: 0.9094\n",
      "Epoch: 400, error: 0.33302258115569483, train accuracy: 0.9060833333333334, test accuracy: 0.9102\n"
     ]
    },
    {
     "data": {
      "image/png": "[encoded data removed]",
      "text/plain": [
       "<Figure size 432x288 with 1 Axes>"
      ]
     },
     "metadata": {
      "needs_background": "light"
     },
     "output_type": "display_data"
    },
    {
     "name": "stdout",
     "output_type": "stream",
     "text": [
      "Epoch: 410, error: 0.3312519309847328, train accuracy: 0.9066, test accuracy: 0.911\n",
      "Epoch: 420, error: 0.3295541143532922, train accuracy: 0.9069333333333334, test accuracy: 0.9111\n",
      "Epoch: 430, error: 0.32792437589308226, train accuracy: 0.9073833333333333, test accuracy: 0.9113\n",
      "Epoch: 440, error: 0.32635837539589857, train accuracy: 0.9078333333333334, test accuracy: 0.9118\n",
      "Epoch: 450, error: 0.32485214244817534, train accuracy: 0.9081666666666667, test accuracy: 0.9129\n",
      "Epoch: 460, error: 0.3234020369957441, train accuracy: 0.9084666666666666, test accuracy: 0.913\n",
      "Epoch: 470, error: 0.32200471494307314, train accuracy: 0.9086833333333333, test accuracy: 0.9134\n",
      "Epoch: 480, error: 0.3206570980434639, train accuracy: 0.9091333333333333, test accuracy: 0.9138\n",
      "Epoch: 490, error: 0.31935634746037894, train accuracy: 0.9095833333333333, test accuracy: 0.9143\n",
      "Epoch: 500, error: 0.31809984048107853, train accuracy: 0.91015, test accuracy: 0.9144\n"
     ]
    },
    {
     "data": {
      "image/png": "[encoded data removed]",
      "text/plain": [
       "<Figure size 432x288 with 1 Axes>"
      ]
     },
     "metadata": {
      "needs_background": "light"
     },
     "output_type": "display_data"
    },
    {
     "name": "stdout",
     "output_type": "stream",
     "text": [
      "Epoch: 510, error: 0.31688514994656053, train accuracy: 0.91025, test accuracy: 0.9146\n",
      "Epoch: 520, error: 0.3157100260299873, train accuracy: 0.9105, test accuracy: 0.9153\n",
      "Epoch: 530, error: 0.31457238005215943, train accuracy: 0.9108333333333334, test accuracy: 0.9154\n",
      "Epoch: 540, error: 0.3134702700693852, train accuracy: 0.9111166666666667, test accuracy: 0.9158\n",
      "Epoch: 550, error: 0.3124012126645584, train accuracy: 0.9116166666666666, test accuracy: 0.9157\n",
      "Epoch: 560, error: 0.31136409064134873, train accuracy: 0.9119666666666667, test accuracy: 0.9158\n"
     ]
    }
   ],
   "source": [
    "W, b = create_weights(architecture)\n",
    "\n",
    "W, b, errors, acc_train, acc_test = train(X_train, y_train, X_test, y_test, 10, W, b, f, _lambda=0, alpha=0.5, max_delta_error=1e-4)"
   ]
  },
  {
   "cell_type": "code",
   "execution_count": 21,
   "metadata": {
    "ExecuteTime": {
     "end_time": "2020-04-02T14:03:19.902932Z",
     "start_time": "2020-04-02T14:03:19.673520Z"
    }
   },
   "outputs": [
    {
     "data": {
      "image/png": "[encoded data removed]",
      "text/plain": [
       "<Figure size 720x576 with 1 Axes>"
      ]
     },
     "metadata": {
      "needs_background": "light"
     },
     "output_type": "display_data"
    }
   ],
   "source": [
    "plt.figure(figsize=(10, 8))\n",
    "plt.plot(errors, label='Loss on train DS')\n",
    "plt.xlabel('Epochs')\n",
    "plt.ylabel('Loss')\n",
    "plt.show()"
   ]
  },
  {
   "cell_type": "code",
   "execution_count": 22,
   "metadata": {
    "ExecuteTime": {
     "end_time": "2020-04-02T14:08:45.594232Z",
     "start_time": "2020-04-02T14:08:45.419907Z"
    }
   },
   "outputs": [
    {
     "data": {
      "text/plain": [
       "[<matplotlib.lines.Line2D at 0x2660cca6c88>]"
      ]
     },
     "execution_count": 22,
     "metadata": {},
     "output_type": "execute_result"
    },
    {
     "data": {
      "image/png": "[encoded data removed]",
      "text/plain": [
       "<Figure size 432x288 with 1 Axes>"
      ]
     },
     "metadata": {
      "needs_background": "light"
     },
     "output_type": "display_data"
    }
   ],
   "source": [
    "# acc_train, acc_test\n",
    "plt.plot(acc_train, label='Acc train')\n",
    "plt.plot(acc_test, label='Acc test')"
   ]
  },
  {
   "cell_type": "markdown",
   "metadata": {},
   "source": [
    "# Test model"
   ]
  },
  {
   "cell_type": "code",
   "execution_count": 23,
   "metadata": {
    "ExecuteTime": {
     "end_time": "2020-04-02T05:12:22.914348Z",
     "start_time": "2020-04-02T05:12:22.885426Z"
    }
   },
   "outputs": [
    {
     "name": "stdout",
     "output_type": "stream",
     "text": [
      "Accuracy on test set: 0.9161\n"
     ]
    }
   ],
   "source": [
    "print(f'Accuracy on test set: {accuracy(X_test, y_test, W, b, f)}')"
   ]
  },
  {
   "cell_type": "code",
   "execution_count": 25,
   "metadata": {},
   "outputs": [],
   "source": [
    "#vis.close(env='main')"
   ]
  }
 ],
 "metadata": {
  "kernelspec": {
   "display_name": "Python 3",
   "language": "python",
   "name": "python3"
  },
  "language_info": {
   "codemirror_mode": {
    "name": "ipython",
    "version": 3
   },
   "file_extension": ".py",
   "mimetype": "text/x-python",
   "name": "python",
   "nbconvert_exporter": "python",
   "pygments_lexer": "ipython3",
   "version": "3.7.6"
  },
  "latex_envs": {
   "LaTeX_envs_menu_present": true,
   "autoclose": false,
   "autocomplete": true,
   "bibliofile": "biblio.bib",
   "cite_by": "apalike",
   "current_citInitial": 1,
   "eqLabelWithNumbers": true,
   "eqNumInitial": 1,
   "hotkeys": {
    "equation": "Ctrl-E",
    "itemize": "Ctrl-I"
   },
   "labels_anchors": false,
   "latex_user_defs": false,
   "report_style_numbering": false,
   "user_envs_cfg": false
  },
  "notify_time": "5",
  "toc": {
   "base_numbering": 1,
   "nav_menu": {},
   "number_sections": true,
   "sideBar": true,
   "skip_h1_title": false,
   "title_cell": "Table of Contents",
   "title_sidebar": "Contents",
   "toc_cell": false,
   "toc_position": {},
   "toc_section_display": true,
   "toc_window_display": false
  },
  "varInspector": {
   "cols": {
    "lenName": 16,
    "lenType": 16,
    "lenVar": 40
   },
   "kernels_config": {
    "python": {
     "delete_cmd_postfix": "",
     "delete_cmd_prefix": "del ",
     "library": "var_list.py",
     "varRefreshCmd": "print(var_dic_list())"
    },
    "r": {
     "delete_cmd_postfix": ") ",
     "delete_cmd_prefix": "rm(",
     "library": "var_list.r",
     "varRefreshCmd": "cat(var_dic_list()) "
    }
   },
   "types_to_exclude": [
    "module",
    "function",
    "builtin_function_or_method",
    "instance",
    "_Feature"
   ],
   "window_display": false
  }
 },
 "nbformat": 4,
 "nbformat_minor": 2
}
